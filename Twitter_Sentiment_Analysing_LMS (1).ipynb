{
  "nbformat": 4,
  "nbformat_minor": 0,
  "metadata": {
    "colab": {
      "name": "Twitter Sentiment Analysing LMS",
      "provenance": []
    },
    "kernelspec": {
      "name": "python3",
      "display_name": "Python 3"
    }
  },
  "cells": [
    {
      "cell_type": "code",
      "metadata": {
        "id": "kskKm7SE57-4",
        "colab_type": "code",
        "colab": {}
      },
      "source": [
        "import pandas as pd\n",
        "import numpy as np\n",
        "import matplotlib.pyplot as plt\n",
        "import re\n",
        "from nltk.corpus import stopwords\n",
        "from nltk.stem import PorterStemmer\n"
      ],
      "execution_count": null,
      "outputs": []
    },
    {
      "cell_type": "code",
      "metadata": {
        "id": "LHFlcazf8kwe",
        "colab_type": "code",
        "colab": {}
      },
      "source": [
        "import nltk\n",
        "nltk.download()"
      ],
      "execution_count": null,
      "outputs": []
    },
    {
      "cell_type": "code",
      "metadata": {
        "id": "AfPN9iOt6JI2",
        "colab_type": "code",
        "colab": {}
      },
      "source": [
        "data_path=\"/content/drive/My Drive/data/NLP/TwitterHate.csv\""
      ],
      "execution_count": null,
      "outputs": []
    },
    {
      "cell_type": "code",
      "metadata": {
        "id": "_AMJeLFh6u-T",
        "colab_type": "code",
        "colab": {}
      },
      "source": [
        "data=pd.read_csv(data_path)"
      ],
      "execution_count": null,
      "outputs": []
    },
    {
      "cell_type": "code",
      "metadata": {
        "id": "rUsqgxwt61_n",
        "colab_type": "code",
        "colab": {
          "base_uri": "https://localhost:8080/",
          "height": 195
        },
        "outputId": "4c651b07-dbc8-4834-b6c1-a142a10bc03e"
      },
      "source": [
        "data.head()"
      ],
      "execution_count": null,
      "outputs": [
        {
          "output_type": "execute_result",
          "data": {
            "text/html": [
              "<div>\n",
              "<style scoped>\n",
              "    .dataframe tbody tr th:only-of-type {\n",
              "        vertical-align: middle;\n",
              "    }\n",
              "\n",
              "    .dataframe tbody tr th {\n",
              "        vertical-align: top;\n",
              "    }\n",
              "\n",
              "    .dataframe thead th {\n",
              "        text-align: right;\n",
              "    }\n",
              "</style>\n",
              "<table border=\"1\" class=\"dataframe\">\n",
              "  <thead>\n",
              "    <tr style=\"text-align: right;\">\n",
              "      <th></th>\n",
              "      <th>id</th>\n",
              "      <th>label</th>\n",
              "      <th>tweet</th>\n",
              "    </tr>\n",
              "  </thead>\n",
              "  <tbody>\n",
              "    <tr>\n",
              "      <th>0</th>\n",
              "      <td>1</td>\n",
              "      <td>0</td>\n",
              "      <td>@user when a father is dysfunctional and is s...</td>\n",
              "    </tr>\n",
              "    <tr>\n",
              "      <th>1</th>\n",
              "      <td>2</td>\n",
              "      <td>0</td>\n",
              "      <td>@user @user thanks for #lyft credit i can't us...</td>\n",
              "    </tr>\n",
              "    <tr>\n",
              "      <th>2</th>\n",
              "      <td>3</td>\n",
              "      <td>0</td>\n",
              "      <td>bihday your majesty</td>\n",
              "    </tr>\n",
              "    <tr>\n",
              "      <th>3</th>\n",
              "      <td>4</td>\n",
              "      <td>0</td>\n",
              "      <td>#model   i love u take with u all the time in ...</td>\n",
              "    </tr>\n",
              "    <tr>\n",
              "      <th>4</th>\n",
              "      <td>5</td>\n",
              "      <td>0</td>\n",
              "      <td>factsguide: society now    #motivation</td>\n",
              "    </tr>\n",
              "  </tbody>\n",
              "</table>\n",
              "</div>"
            ],
            "text/plain": [
              "   id  label                                              tweet\n",
              "0   1      0   @user when a father is dysfunctional and is s...\n",
              "1   2      0  @user @user thanks for #lyft credit i can't us...\n",
              "2   3      0                                bihday your majesty\n",
              "3   4      0  #model   i love u take with u all the time in ...\n",
              "4   5      0             factsguide: society now    #motivation"
            ]
          },
          "metadata": {
            "tags": []
          },
          "execution_count": 9
        }
      ]
    },
    {
      "cell_type": "markdown",
      "metadata": {
        "id": "3_ZXG9sQ78RS",
        "colab_type": "text"
      },
      "source": [
        "**Data Preprocessing**"
      ]
    },
    {
      "cell_type": "code",
      "metadata": {
        "id": "OPWJQLC264Qz",
        "colab_type": "code",
        "colab": {}
      },
      "source": [
        "#classifyin the entire dataset into lists\n",
        "tweets=data.tweet\n",
        "label=data.label"
      ],
      "execution_count": null,
      "outputs": []
    },
    {
      "cell_type": "code",
      "metadata": {
        "id": "5Zm4B6qv9VQl",
        "colab_type": "code",
        "colab": {
          "base_uri": "https://localhost:8080/",
          "height": 122
        },
        "outputId": "f7af2180-18a8-4451-81f3-4e61e14345c6"
      },
      "source": [
        "tweets.head()"
      ],
      "execution_count": null,
      "outputs": [
        {
          "output_type": "execute_result",
          "data": {
            "text/plain": [
              "0     @user when a father is dysfunctional and is s...\n",
              "1    @user @user thanks for #lyft credit i can't us...\n",
              "2                                  bihday your majesty\n",
              "3    #model   i love u take with u all the time in ...\n",
              "4               factsguide: society now    #motivation\n",
              "Name: tweet, dtype: object"
            ]
          },
          "metadata": {
            "tags": []
          },
          "execution_count": 15
        }
      ]
    },
    {
      "cell_type": "code",
      "metadata": {
        "id": "ZoahZfza9bYJ",
        "colab_type": "code",
        "colab": {}
      },
      "source": [
        "words_db=[]\n",
        "ptstem=PorterStemmer()\n",
        "corpus=[]\n",
        "for tweet in tweets:\n",
        "  text=tweet\n",
        "  text=re.sub(\"[^a-zA-Z]\",\" \",text)\n",
        "  text=text.lower()\n",
        "  words=text.split()\n",
        "  words_wt_sw=[]\n",
        "  for word in words:\n",
        "    if word not in stopwords.words(\"english\"):\n",
        "      words_wt_sw.append(ptstem.stem(word))\n",
        "      words_db.append(word)\n",
        "  text=\" \".join(words_wt_sw)\n",
        "  corpus.append(text)\n",
        "  \n"
      ],
      "execution_count": null,
      "outputs": []
    },
    {
      "cell_type": "code",
      "metadata": {
        "id": "mVR5UIIV_uU2",
        "colab_type": "code",
        "colab": {
          "base_uri": "https://localhost:8080/",
          "height": 35
        },
        "outputId": "6bec24b8-a93c-499b-eb3c-2fb24dfbc89f"
      },
      "source": [
        "corpus[0]"
      ],
      "execution_count": null,
      "outputs": [
        {
          "output_type": "execute_result",
          "data": {
            "application/vnd.google.colaboratory.intrinsic": {
              "type": "string"
            },
            "text/plain": [
              "'user father dysfunct selfish drag kid dysfunct run'"
            ]
          },
          "metadata": {
            "tags": []
          },
          "execution_count": 35
        }
      ]
    },
    {
      "cell_type": "markdown",
      "metadata": {
        "id": "efnLQJSTA_Pt",
        "colab_type": "text"
      },
      "source": [
        "**Identifying the most occured word**"
      ]
    },
    {
      "cell_type": "code",
      "metadata": {
        "id": "yImdbkGqADUi",
        "colab_type": "code",
        "colab": {}
      },
      "source": [
        "words\n",
        "from collections import Counter \n",
        "counter=Counter(words_db)\n",
        "most_occured_word=counter.most_common(10)"
      ],
      "execution_count": null,
      "outputs": []
    },
    {
      "cell_type": "code",
      "metadata": {
        "id": "xdOwVLAXA0SP",
        "colab_type": "code",
        "colab": {
          "base_uri": "https://localhost:8080/",
          "height": 193
        },
        "outputId": "8ad79057-a59e-41ee-d34c-b6266fcb0f1b"
      },
      "source": [
        "most_occured_word"
      ],
      "execution_count": null,
      "outputs": [
        {
          "output_type": "execute_result",
          "data": {
            "text/plain": [
              "[('user', 17577),\n",
              " ('love', 2828),\n",
              " ('day', 2393),\n",
              " ('amp', 1777),\n",
              " ('happy', 1707),\n",
              " ('u', 1194),\n",
              " ('like', 1180),\n",
              " ('life', 1176),\n",
              " ('time', 1150),\n",
              " ('today', 1095)]"
            ]
          },
          "metadata": {
            "tags": []
          },
          "execution_count": 40
        }
      ]
    },
    {
      "cell_type": "code",
      "metadata": {
        "id": "c_93lvLnBcAl",
        "colab_type": "code",
        "colab": {}
      },
      "source": [
        "top_10_words=[]\n",
        "for i in range(len(most_occured_word)):\n",
        "  top_10_words.append(most_occured_word[i][0])"
      ],
      "execution_count": null,
      "outputs": []
    },
    {
      "cell_type": "markdown",
      "metadata": {
        "id": "YkS5MGxSDbfh",
        "colab_type": "text"
      },
      "source": [
        "**Top 10 most frequent words**"
      ]
    },
    {
      "cell_type": "code",
      "metadata": {
        "id": "cmJU1f5NDZIs",
        "colab_type": "code",
        "colab": {
          "base_uri": "https://localhost:8080/",
          "height": 34
        },
        "outputId": "9e1e4b5d-842d-4655-d10f-6ceff2b77ee6"
      },
      "source": [
        "top_10_words"
      ],
      "execution_count": null,
      "outputs": [
        {
          "output_type": "execute_result",
          "data": {
            "text/plain": [
              "['user', 'love', 'day', 'amp', 'happy', 'u', 'like', 'life', 'time', 'today']"
            ]
          },
          "metadata": {
            "tags": []
          },
          "execution_count": 42
        }
      ]
    },
    {
      "cell_type": "markdown",
      "metadata": {
        "id": "xdiWN3ULD9mW",
        "colab_type": "text"
      },
      "source": [
        "**Converting From text to Vector**"
      ]
    },
    {
      "cell_type": "code",
      "metadata": {
        "id": "8ysDbDHtD85-",
        "colab_type": "code",
        "colab": {}
      },
      "source": [
        "from sklearn.feature_extraction.text import TfidfVectorizer"
      ],
      "execution_count": null,
      "outputs": []
    },
    {
      "cell_type": "code",
      "metadata": {
        "id": "plD8hbzODaUl",
        "colab_type": "code",
        "colab": {}
      },
      "source": [
        "tfIdf=TfidfVectorizer(max_features=5000)"
      ],
      "execution_count": null,
      "outputs": []
    },
    {
      "cell_type": "code",
      "metadata": {
        "id": "kXGm_00VFHzz",
        "colab_type": "code",
        "colab": {}
      },
      "source": [
        "X=tfIdf.fit_transform(corpus).toarray()"
      ],
      "execution_count": null,
      "outputs": []
    },
    {
      "cell_type": "code",
      "metadata": {
        "id": "uf2Qbq8IFPvg",
        "colab_type": "code",
        "colab": {}
      },
      "source": [
        "y=np.array(label)"
      ],
      "execution_count": null,
      "outputs": []
    },
    {
      "cell_type": "code",
      "metadata": {
        "id": "KEVabT4uFSFA",
        "colab_type": "code",
        "colab": {
          "base_uri": "https://localhost:8080/",
          "height": 34
        },
        "outputId": "c6631fcf-1707-42de-bdcc-9fc45cd67a32"
      },
      "source": [
        "X.shape"
      ],
      "execution_count": null,
      "outputs": [
        {
          "output_type": "execute_result",
          "data": {
            "text/plain": [
              "(31962, 5000)"
            ]
          },
          "metadata": {
            "tags": []
          },
          "execution_count": 56
        }
      ]
    },
    {
      "cell_type": "code",
      "metadata": {
        "id": "N6DszH1nFhB-",
        "colab_type": "code",
        "colab": {
          "base_uri": "https://localhost:8080/",
          "height": 34
        },
        "outputId": "4b4dd9c1-cab8-4fc2-feff-b7b032fdee83"
      },
      "source": [
        "y.shape"
      ],
      "execution_count": null,
      "outputs": [
        {
          "output_type": "execute_result",
          "data": {
            "text/plain": [
              "(31962,)"
            ]
          },
          "metadata": {
            "tags": []
          },
          "execution_count": 57
        }
      ]
    },
    {
      "cell_type": "code",
      "metadata": {
        "id": "F2ZLjy2FFs9x",
        "colab_type": "code",
        "colab": {}
      },
      "source": [
        "from sklearn.model_selection import train_test_split"
      ],
      "execution_count": null,
      "outputs": []
    },
    {
      "cell_type": "code",
      "metadata": {
        "id": "-94DLU-5GBIo",
        "colab_type": "code",
        "colab": {}
      },
      "source": [
        "X_train,X_test,y_train,y_test=train_test_split(X,y,test_size=0.2,random_state=10)"
      ],
      "execution_count": null,
      "outputs": []
    },
    {
      "cell_type": "markdown",
      "metadata": {
        "id": "ScTeU7-yHQum",
        "colab_type": "text"
      },
      "source": [
        "**Model building: Ordinary Logistic Regression**"
      ]
    },
    {
      "cell_type": "code",
      "metadata": {
        "id": "T6VBFxGGG_5D",
        "colab_type": "code",
        "colab": {}
      },
      "source": [
        "from sklearn.linear_model import LogisticRegression\n",
        "classifier=LogisticRegression()"
      ],
      "execution_count": null,
      "outputs": []
    },
    {
      "cell_type": "code",
      "metadata": {
        "id": "rD9tl4UOHCCO",
        "colab_type": "code",
        "colab": {
          "base_uri": "https://localhost:8080/",
          "height": 105
        },
        "outputId": "42fcf74a-7b42-45d8-eea6-548c2ed78d5c"
      },
      "source": [
        "classifier.fit(X_train,y_train)"
      ],
      "execution_count": null,
      "outputs": [
        {
          "output_type": "execute_result",
          "data": {
            "text/plain": [
              "LogisticRegression(C=1.0, class_weight=None, dual=False, fit_intercept=True,\n",
              "                   intercept_scaling=1, l1_ratio=None, max_iter=100,\n",
              "                   multi_class='auto', n_jobs=None, penalty='l2',\n",
              "                   random_state=None, solver='lbfgs', tol=0.0001, verbose=0,\n",
              "                   warm_start=False)"
            ]
          },
          "metadata": {
            "tags": []
          },
          "execution_count": 65
        }
      ]
    },
    {
      "cell_type": "code",
      "metadata": {
        "id": "9VA49og9HoRU",
        "colab_type": "code",
        "colab": {}
      },
      "source": [
        "y_pred=classifier.predict(X_test)"
      ],
      "execution_count": null,
      "outputs": []
    },
    {
      "cell_type": "code",
      "metadata": {
        "id": "N9e_CWpqHw_h",
        "colab_type": "code",
        "colab": {}
      },
      "source": [
        "from sklearn.metrics import accuracy_score,confusion_matrix,recall_score,f1_score\n",
        "def performance(y_pred,y_test):\n",
        "  acc=accuracy_score(y_pred,y_test)\n",
        "  \n",
        "  print(\"Confusion_matrix is \\n\",confusion_matrix(y_pred,y_test))\n",
        "  print(\"\\naccuaracy      :\", acc)\n",
        "  print(\"Recall Score   :\", recall_score(y_pred,y_test))\n",
        "  print(\"f1_Score       :\", f1_score(y_pred,y_test))\n"
      ],
      "execution_count": null,
      "outputs": []
    },
    {
      "cell_type": "markdown",
      "metadata": {
        "id": "WM2m23Y7J62S",
        "colab_type": "text"
      },
      "source": [
        "**Measuring the Performance**"
      ]
    },
    {
      "cell_type": "code",
      "metadata": {
        "id": "560adt4TIpYw",
        "colab_type": "code",
        "colab": {
          "base_uri": "https://localhost:8080/",
          "height": 140
        },
        "outputId": "be26801b-46ef-4291-9825-48a84d465ada"
      },
      "source": [
        "#performance of the Logistic Regression\n",
        "performance(y_pred,y_test)"
      ],
      "execution_count": null,
      "outputs": [
        {
          "output_type": "stream",
          "text": [
            "Confusion_matrix is \n",
            " [[5920  306]\n",
            " [  10  157]]\n",
            "\n",
            "accuaracy      : 0.9505709369623025\n",
            "Recall Score   : 0.9401197604790419\n",
            "f1_Score       : 0.49841269841269836\n"
          ],
          "name": "stdout"
        }
      ]
    },
    {
      "cell_type": "markdown",
      "metadata": {
        "id": "JDhKrINwI4p6",
        "colab_type": "text"
      },
      "source": [
        "**We have got a accuarcy of 95 % and recall of 94% using Simple Logistic Regression but f1_score is 49.8% which is very poor.**\n"
      ]
    },
    {
      "cell_type": "markdown",
      "metadata": {
        "id": "-XVnevhELA6S",
        "colab_type": "text"
      },
      "source": [
        "**Looks like you need to adjust the class imbalance, as the model seems to focus on the 0s**\n",
        "\n",
        "-->Lets check\n",
        "\n"
      ]
    },
    {
      "cell_type": "code",
      "metadata": {
        "id": "0XJDDb5iI01h",
        "colab_type": "code",
        "colab": {}
      },
      "source": [
        "ones_count=0\n",
        "zeros_count=0\n",
        "for val in data.label:\n",
        "  if(val==0):\n",
        "    zeros_count+=1\n",
        "  else:\n",
        "    ones_count+=1\n",
        "  "
      ],
      "execution_count": null,
      "outputs": []
    },
    {
      "cell_type": "code",
      "metadata": {
        "id": "fLMbE3oLM2Fb",
        "colab_type": "code",
        "colab": {
          "base_uri": "https://localhost:8080/",
          "height": 34
        },
        "outputId": "9d801923-994a-4674-ce0e-6298863b0bdc"
      },
      "source": [
        "ones_count"
      ],
      "execution_count": null,
      "outputs": [
        {
          "output_type": "execute_result",
          "data": {
            "text/plain": [
              "2242"
            ]
          },
          "metadata": {
            "tags": []
          },
          "execution_count": 107
        }
      ]
    },
    {
      "cell_type": "code",
      "metadata": {
        "id": "RBZASmwkNDSc",
        "colab_type": "code",
        "colab": {
          "base_uri": "https://localhost:8080/",
          "height": 34
        },
        "outputId": "515b86eb-4132-40d3-f812-ab6b9e54606a"
      },
      "source": [
        "zeros_count"
      ],
      "execution_count": null,
      "outputs": [
        {
          "output_type": "execute_result",
          "data": {
            "text/plain": [
              "29720"
            ]
          },
          "metadata": {
            "tags": []
          },
          "execution_count": 108
        }
      ]
    },
    {
      "cell_type": "code",
      "metadata": {
        "id": "ucbI-KWUOZUM",
        "colab_type": "code",
        "colab": {
          "base_uri": "https://localhost:8080/",
          "height": 281
        },
        "outputId": "6c8e762f-9ba6-42b3-9040-a4b0fcb38cb1"
      },
      "source": [
        "barlist=plt.bar([1,2], [ones_count,zeros_count])\n",
        "barlist[0].set_color('#00cc00')\n",
        "barlist[1].set_color(\"#00ace6\")\n",
        "plt.title(\"Number of 1s    Vs    Number of Os\")\n",
        "plt.show()"
      ],
      "execution_count": null,
      "outputs": [
        {
          "output_type": "display_data",
          "data": {
            "image/png": "[encoded data removed]",
            "text/plain": [
              "<Figure size 432x288 with 1 Axes>"
            ]
          },
          "metadata": {
            "tags": [],
            "needs_background": "light"
          }
        }
      ]
    },
    {
      "cell_type": "markdown",
      "metadata": {
        "id": "RNVZu5DuR4Qo",
        "colab_type": "text"
      },
      "source": [
        "we can clearly see the imbalace of the class data\n"
      ]
    },
    {
      "cell_type": "markdown",
      "metadata": {
        "id": "Hhruj4vsUi10",
        "colab_type": "text"
      },
      "source": [
        "**Random under-sampling**"
      ]
    },
    {
      "cell_type": "code",
      "metadata": {
        "id": "ZVu3fPp7OouE",
        "colab_type": "code",
        "colab": {}
      },
      "source": [
        "import imblearn"
      ],
      "execution_count": null,
      "outputs": []
    },
    {
      "cell_type": "code",
      "metadata": {
        "id": "41BbOGaBT0Zn",
        "colab_type": "code",
        "colab": {
          "base_uri": "https://localhost:8080/",
          "height": 90
        },
        "outputId": "f3ad83fc-06e7-44fa-ae58-a0efaf79f2ce"
      },
      "source": [
        "from imblearn.under_sampling import RandomUnderSampler\n",
        "\n",
        "rus = RandomUnderSampler(return_indices=True)\n",
        "X_rus, y_rus, id_rus = rus.fit_sample(X, y)\n",
        "\n",
        "print('Removed indexes:', id_rus)"
      ],
      "execution_count": null,
      "outputs": [
        {
          "output_type": "stream",
          "text": [
            "/usr/local/lib/python3.6/dist-packages/sklearn/utils/deprecation.py:87: FutureWarning: Function safe_indexing is deprecated; safe_indexing is deprecated in version 0.22 and will be removed in version 0.24.\n",
            "  warnings.warn(msg, category=FutureWarning)\n"
          ],
          "name": "stderr"
        },
        {
          "output_type": "stream",
          "text": [
            "Removed indexes: [ 7659 29192  5738 ... 31947 31948 31960]\n"
          ],
          "name": "stdout"
        }
      ]
    },
    {
      "cell_type": "code",
      "metadata": {
        "id": "DdPCJewMUcIn",
        "colab_type": "code",
        "colab": {}
      },
      "source": [
        ""
      ],
      "execution_count": null,
      "outputs": []
    },
    {
      "cell_type": "code",
      "metadata": {
        "id": "9xkoQsFxUJnW",
        "colab_type": "code",
        "colab": {}
      },
      "source": [
        "ones_count=0\n",
        "zeros_count=0\n",
        "for val in y_rus:\n",
        "  if(val==0):\n",
        "    zeros_count+=1\n",
        "  else:\n",
        "    ones_count+=1\n",
        "  "
      ],
      "execution_count": null,
      "outputs": []
    },
    {
      "cell_type": "code",
      "metadata": {
        "id": "AAXV6bdnUVA1",
        "colab_type": "code",
        "colab": {
          "base_uri": "https://localhost:8080/",
          "height": 281
        },
        "outputId": "aba09d01-84cb-459b-cfaa-9e50576b0d30"
      },
      "source": [
        "barlist=plt.bar([1,2], [ones_count,zeros_count])\n",
        "barlist[0].set_color('#00cc00')\n",
        "barlist[1].set_color(\"#00ace6\")\n",
        "plt.title(\"Number of 1s    Vs    Number of Os\")\n",
        "plt.show()"
      ],
      "execution_count": null,
      "outputs": [
        {
          "output_type": "display_data",
          "data": {
            "image/png": "[encoded data removed]",
            "text/plain": [
              "<Figure size 432x288 with 1 Axes>"
            ]
          },
          "metadata": {
            "tags": [],
            "needs_background": "light"
          }
        }
      ]
    },
    {
      "cell_type": "markdown",
      "metadata": {
        "id": "VfIXIpbmUtZM",
        "colab_type": "text"
      },
      "source": [
        "**now we can see that the data is preety balanced between both of these classes lets re apply the algorithm**"
      ]
    },
    {
      "cell_type": "code",
      "metadata": {
        "id": "jrxo0jJ_UZ-D",
        "colab_type": "code",
        "colab": {}
      },
      "source": [
        "#train_test split\n",
        "X_train,X_test,y_train,y_test=train_test_split(X_rus,y_rus,test_size=0.2,random_state=10)"
      ],
      "execution_count": null,
      "outputs": []
    },
    {
      "cell_type": "code",
      "metadata": {
        "id": "CoTd1AIQVKE7",
        "colab_type": "code",
        "colab": {}
      },
      "source": [
        "classifier=LogisticRegression()"
      ],
      "execution_count": null,
      "outputs": []
    },
    {
      "cell_type": "code",
      "metadata": {
        "id": "C8Ndr40JVUoA",
        "colab_type": "code",
        "colab": {
          "base_uri": "https://localhost:8080/",
          "height": 105
        },
        "outputId": "1b1102c2-4798-4864-ff8c-daf40f7adf57"
      },
      "source": [
        "classifier.fit(X_train,y_train)"
      ],
      "execution_count": null,
      "outputs": [
        {
          "output_type": "execute_result",
          "data": {
            "text/plain": [
              "LogisticRegression(C=1.0, class_weight=None, dual=False, fit_intercept=True,\n",
              "                   intercept_scaling=1, l1_ratio=None, max_iter=100,\n",
              "                   multi_class='auto', n_jobs=None, penalty='l2',\n",
              "                   random_state=None, solver='lbfgs', tol=0.0001, verbose=0,\n",
              "                   warm_start=False)"
            ]
          },
          "metadata": {
            "tags": []
          },
          "execution_count": 140
        }
      ]
    },
    {
      "cell_type": "code",
      "metadata": {
        "id": "3BE0ERz8VYG8",
        "colab_type": "code",
        "colab": {}
      },
      "source": [
        "y_pred=classifier.predict(X_test)"
      ],
      "execution_count": null,
      "outputs": []
    },
    {
      "cell_type": "code",
      "metadata": {
        "id": "oePeQ8nYVdfD",
        "colab_type": "code",
        "colab": {
          "base_uri": "https://localhost:8080/",
          "height": 140
        },
        "outputId": "d6733616-a122-411a-b58f-49d5e1a1fcbd"
      },
      "source": [
        "performance(y_pred,y_test)"
      ],
      "execution_count": null,
      "outputs": [
        {
          "output_type": "stream",
          "text": [
            "Confusion_matrix is \n",
            " [[408  49]\n",
            " [ 65 375]]\n",
            "\n",
            "accuaracy      : 0.8729096989966555\n",
            "Recall Score   : 0.8522727272727273\n",
            "f1_Score       : 0.8680555555555557\n"
          ],
          "name": "stdout"
        }
      ]
    },
    {
      "cell_type": "markdown",
      "metadata": {
        "id": "iYUFxyUQV7lD",
        "colab_type": "text"
      },
      "source": [
        "**Now you get the perfect kind of all accuarcy performance metrics this is power of balanced data**"
      ]
    },
    {
      "cell_type": "code",
      "metadata": {
        "id": "tWYhxKI1Wjz2",
        "colab_type": "code",
        "colab": {}
      },
      "source": [
        ""
      ],
      "execution_count": null,
      "outputs": []
    },
    {
      "cell_type": "code",
      "metadata": {
        "id": "JRGcgnycWjxG",
        "colab_type": "code",
        "colab": {}
      },
      "source": [
        ""
      ],
      "execution_count": null,
      "outputs": []
    },
    {
      "cell_type": "markdown",
      "metadata": {
        "id": "Ui59zVqmWlXf",
        "colab_type": "text"
      },
      "source": [
        "**Hyper Parameter Tuning**"
      ]
    },
    {
      "cell_type": "code",
      "metadata": {
        "id": "lQYRfnhUVlph",
        "colab_type": "code",
        "colab": {}
      },
      "source": [
        ""
      ],
      "execution_count": null,
      "outputs": []
    },
    {
      "cell_type": "code",
      "metadata": {
        "id": "k5idw__DXIhH",
        "colab_type": "code",
        "colab": {}
      },
      "source": [
        "from sklearn.model_selection import GridSearchCV"
      ],
      "execution_count": null,
      "outputs": []
    },
    {
      "cell_type": "code",
      "metadata": {
        "id": "jR3dFj5TYTNF",
        "colab_type": "code",
        "colab": {}
      },
      "source": [
        "grid_values = {'penalty': ['l2'],'C':[0.1,0.4,0.5,1.0]}\n",
        "grid_clf_acc = GridSearchCV(classifier, param_grid = grid_values,scoring = 'recall',cv=4)"
      ],
      "execution_count": null,
      "outputs": []
    },
    {
      "cell_type": "code",
      "metadata": {
        "id": "5bFpoxL3XfVd",
        "colab_type": "code",
        "colab": {
          "base_uri": "https://localhost:8080/",
          "height": 246
        },
        "outputId": "f450d479-96b5-4988-fdbd-266ba8ae482a"
      },
      "source": [
        "grid_clf_acc.fit(X_train,y_train)"
      ],
      "execution_count": null,
      "outputs": [
        {
          "output_type": "execute_result",
          "data": {
            "text/plain": [
              "GridSearchCV(cv=4, error_score=nan,\n",
              "             estimator=LogisticRegression(C=1.0, class_weight=None, dual=False,\n",
              "                                          fit_intercept=True,\n",
              "                                          intercept_scaling=1, l1_ratio=None,\n",
              "                                          max_iter=100, multi_class='auto',\n",
              "                                          n_jobs=None, penalty='l2',\n",
              "                                          random_state=None, solver='lbfgs',\n",
              "                                          tol=0.0001, verbose=0,\n",
              "                                          warm_start=False),\n",
              "             iid='deprecated', n_jobs=None,\n",
              "             param_grid={'C': [0.1, 0.4, 0.5, 1.0], 'penalty': ['l2']},\n",
              "             pre_dispatch='2*n_jobs', refit=True, return_train_score=False,\n",
              "             scoring='recall', verbose=0)"
            ]
          },
          "metadata": {
            "tags": []
          },
          "execution_count": 229
        }
      ]
    },
    {
      "cell_type": "code",
      "metadata": {
        "id": "O6zi6SEaZpqb",
        "colab_type": "code",
        "colab": {
          "base_uri": "https://localhost:8080/",
          "height": 34
        },
        "outputId": "e7ba6095-57bc-4be0-83aa-ae7841878db0"
      },
      "source": [
        "grid_clf_acc.best_params_"
      ],
      "execution_count": null,
      "outputs": [
        {
          "output_type": "execute_result",
          "data": {
            "text/plain": [
              "{'C': 1.0, 'penalty': 'l2'}"
            ]
          },
          "metadata": {
            "tags": []
          },
          "execution_count": 230
        }
      ]
    },
    {
      "cell_type": "code",
      "metadata": {
        "id": "EqFVlFj4Zuvn",
        "colab_type": "code",
        "colab": {}
      },
      "source": [
        "classifier=LogisticRegression(C=1.0,penalty=\"l2\")"
      ],
      "execution_count": null,
      "outputs": []
    },
    {
      "cell_type": "code",
      "metadata": {
        "id": "lUzT8lOiat4_",
        "colab_type": "code",
        "colab": {
          "base_uri": "https://localhost:8080/",
          "height": 105
        },
        "outputId": "24657807-fd67-4b4d-f6d9-6a1b358314e6"
      },
      "source": [
        "classifier.fit(X_train,y_train)"
      ],
      "execution_count": null,
      "outputs": [
        {
          "output_type": "execute_result",
          "data": {
            "text/plain": [
              "LogisticRegression(C=1.0, class_weight=None, dual=False, fit_intercept=True,\n",
              "                   intercept_scaling=1, l1_ratio=None, max_iter=100,\n",
              "                   multi_class='auto', n_jobs=None, penalty='l2',\n",
              "                   random_state=None, solver='lbfgs', tol=0.0001, verbose=0,\n",
              "                   warm_start=False)"
            ]
          },
          "metadata": {
            "tags": []
          },
          "execution_count": 232
        }
      ]
    },
    {
      "cell_type": "code",
      "metadata": {
        "id": "DpEDFdE-a0hP",
        "colab_type": "code",
        "colab": {}
      },
      "source": [
        "y_pred=classifier.predict(X_test)"
      ],
      "execution_count": null,
      "outputs": []
    },
    {
      "cell_type": "code",
      "metadata": {
        "id": "YMuxG10sa9so",
        "colab_type": "code",
        "colab": {
          "base_uri": "https://localhost:8080/",
          "height": 140
        },
        "outputId": "6d1753f4-2fe5-4b8c-ddf8-82117a58eda7"
      },
      "source": [
        "performance(y_pred,y_test)"
      ],
      "execution_count": null,
      "outputs": [
        {
          "output_type": "stream",
          "text": [
            "Confusion_matrix is \n",
            " [[408  49]\n",
            " [ 65 375]]\n",
            "\n",
            "accuaracy      : 0.8729096989966555\n",
            "Recall Score   : 0.8522727272727273\n",
            "f1_Score       : 0.8680555555555557\n"
          ],
          "name": "stdout"
        }
      ]
    },
    {
      "cell_type": "code",
      "metadata": {
        "id": "ii6O5o1IbBdN",
        "colab_type": "code",
        "colab": {}
      },
      "source": [
        ""
      ],
      "execution_count": null,
      "outputs": []
    }
  ]
}